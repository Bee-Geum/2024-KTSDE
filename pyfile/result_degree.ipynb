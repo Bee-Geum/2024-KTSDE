{
 "cells": [
  {
   "cell_type": "code",
   "execution_count": 5,
   "metadata": {},
   "outputs": [],
   "source": [
    "import pickle\n",
    "import osmnx as ox"
   ]
  },
  {
   "cell_type": "code",
   "execution_count": 6,
   "metadata": {},
   "outputs": [],
   "source": [
    "cities = []\n",
    "file_name = 'all'\n",
    "\n",
    "\n",
    "with open(f'../txt/{file_name}.txt', 'r') as txt_file:\n",
    "    for line in txt_file:\n",
    "        city = line.split(',')[0]\n",
    "        cities.append(city)"
   ]
  },
  {
   "cell_type": "code",
   "execution_count": 7,
   "metadata": {},
   "outputs": [],
   "source": [
    "# for city in cities:\n",
    "#     with open(f'../graph_data/{city}_graph_default.pkl', 'rb') as file:\n",
    "#         G = pickle.load(file)\n",
    "\n",
    "#     G = ox.get_undirected(G) # 양방향 간선을 고려하지 않기 위해 네트워크를 무방향으로 변환\n",
    "#     degrees = dict(G.degree())\n",
    "\n",
    "#     target_degree = 4\n",
    "\n",
    "#     # Degree가 2인 노드의 수를 계산합니다\n",
    "#     degree_two_nodes = sum(1 for degree in degrees.values() if degree == target_degree)\n",
    "\n",
    "#     # 전체 노드 대비 degree가 2인 노드의 비율을 계산합니다\n",
    "#     total_nodes = len(degrees)\n",
    "#     degree_two_ratio = (degree_two_nodes / total_nodes) * 100\n",
    "\n",
    "#     print(f'{city} Degree가 {target_degree}인 노드의 비율: {degree_two_ratio:.2f}')"
   ]
  },
  {
   "cell_type": "code",
   "execution_count": 8,
   "metadata": {},
   "outputs": [
    {
     "name": "stdout",
     "output_type": "stream",
     "text": [
      "서울특별시 3.035431553354879\n",
      "부산광역시 3.106256871086468\n",
      "인천광역시 3.049956866128147\n",
      "대구광역시 3.0668036998972252\n",
      "울산광역시 3.0529531568228108\n",
      "대전광역시 3.0867449555569975\n",
      "광주광역시 3.0699977492685124\n",
      "제주특별자치도 2.9390226460071514\n",
      "창원시 3.082186686500558\n",
      "세종특별자치시 2.7401116233923806\n",
      "manhattan 3.557824639289678\n",
      "barcelona 3.134898348871167\n",
      "dubai 2.922984273374858\n",
      "berlin 3.0231529378188435\n",
      "roma 2.801407025933419\n",
      "amsterdam 2.993495807538594\n",
      "paris 3.129311243096801\n",
      "hanoi 2.535330193474062\n",
      "new delhi 2.7969471781482227\n",
      "jakarta 2.5535189590037777\n"
     ]
    }
   ],
   "source": [
    "for city in cities:\n",
    "    with open(f'../graph_data/{city}_graph_default.pkl', 'rb') as file:\n",
    "        G = pickle.load(file)\n",
    "\n",
    "        G = G.to_undirected()\n",
    "\n",
    "        # 모든 노드의 degree를 계산합니다.\n",
    "        degrees = [degree for node, degree in G.degree()]\n",
    "\n",
    "        # 평균 degree를 계산합니다.\n",
    "        average_degree = sum(degrees) / len(degrees)\n",
    "\n",
    "        print(f'{city} {average_degree}')\n"
   ]
  }
 ],
 "metadata": {
  "kernelspec": {
   "display_name": "Python 3",
   "language": "python",
   "name": "python3"
  },
  "language_info": {
   "codemirror_mode": {
    "name": "ipython",
    "version": 3
   },
   "file_extension": ".py",
   "mimetype": "text/x-python",
   "name": "python",
   "nbconvert_exporter": "python",
   "pygments_lexer": "ipython3",
   "version": "3.10.12"
  }
 },
 "nbformat": 4,
 "nbformat_minor": 2
}
