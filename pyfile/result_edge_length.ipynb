{
 "cells": [
  {
   "cell_type": "code",
   "execution_count": 4,
   "metadata": {},
   "outputs": [],
   "source": [
    "import pickle\n",
    "import networkx as nx"
   ]
  },
  {
   "cell_type": "code",
   "execution_count": 5,
   "metadata": {},
   "outputs": [],
   "source": [
    "cities = []\n",
    "\n",
    "with open('../txt/all.txt', 'r') as txt_file:\n",
    "    for line in txt_file:\n",
    "        city = line.split(',')[0]\n",
    "        cities.append(city)"
   ]
  },
  {
   "cell_type": "code",
   "execution_count": 9,
   "metadata": {},
   "outputs": [
    {
     "name": "stdout",
     "output_type": "stream",
     "text": [
      "서울특별시 74.87\n",
      "부산광역시 129.71\n",
      "인천광역시 151.22\n",
      "대구광역시 122.76\n",
      "울산광역시 165.75\n",
      "대전광역시 110.91\n",
      "광주광역시 126.05\n",
      "제주특별자치도 184.06\n",
      "창원시 148.22\n",
      "세종특별자치시 158.15\n",
      "manhattan 117.99\n",
      "barcelona 101.64\n",
      "dubai 139.63\n",
      "berlin 144.98\n",
      "roma 124.70\n",
      "amsterdam 92.99\n",
      "paris 97.45\n",
      "hanoi 113.43\n",
      "new delhi 89.81\n",
      "jakarta 72.29\n"
     ]
    }
   ],
   "source": [
    "for city in cities:\n",
    "    with open(f'../graph_data/{city}_graph_default.pkl', 'rb') as file:\n",
    "        G = pickle.load(file)\n",
    "\n",
    "        lengths = []\n",
    "        for u, v, data in G.edges(data=True):\n",
    "            lengths.append(data['length'])\n",
    "\n",
    "        average_length = sum(lengths) / len(lengths)\n",
    "\n",
    "        print(f'{city} {average_length:.2f}')"
   ]
  },
  {
   "cell_type": "code",
   "execution_count": 13,
   "metadata": {},
   "outputs": [
    {
     "name": "stdout",
     "output_type": "stream",
     "text": [
      "서울특별시 163.04\n",
      "부산광역시 102.81\n",
      "인천광역시 78.95\n",
      "대구광역시 101.35\n",
      "울산광역시 79.0\n",
      "대전광역시 93.49\n",
      "광주광역시 68.47\n",
      "제주특별자치도 167.11\n",
      "창원시 76.48\n",
      "세종특별자치시 64.36\n",
      "manhattan 68.83\n",
      "barcelona 60.69\n",
      "dubai 102.04\n",
      "berlin 121.65\n",
      "roma 109.06\n",
      "amsterdam 62.69\n",
      "paris 73.77\n",
      "hanoi 235.71\n",
      "new delhi 69.54\n",
      "jakarta 136.08\n"
     ]
    }
   ],
   "source": [
    "for city in cities:\n",
    "\n",
    "    cnt_len = []\n",
    "\n",
    "    with open(f'./fewest_turn_paths/{city}_ftp_100_10.pkl', 'rb') as file:\n",
    "        paths = pickle.load(file)\n",
    "\n",
    "        for path in paths:\n",
    "            cnt_len.append(len(path) - 2)\n",
    "\n",
    "        avg_edge = sum(cnt_len) / len(cnt_len)\n",
    "\n",
    "        print(f'{city} {avg_edge}')"
   ]
  }
 ],
 "metadata": {
  "kernelspec": {
   "display_name": "Python 3",
   "language": "python",
   "name": "python3"
  },
  "language_info": {
   "codemirror_mode": {
    "name": "ipython",
    "version": 3
   },
   "file_extension": ".py",
   "mimetype": "text/x-python",
   "name": "python",
   "nbconvert_exporter": "python",
   "pygments_lexer": "ipython3",
   "version": "3.10.12"
  }
 },
 "nbformat": 4,
 "nbformat_minor": 2
}
