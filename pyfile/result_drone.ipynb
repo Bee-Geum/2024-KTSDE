{
 "cells": [
  {
   "cell_type": "code",
   "execution_count": 9,
   "metadata": {},
   "outputs": [],
   "source": [
    "import pickle\n",
    "import numpy as np\n",
    "import matplotlib.pyplot as plt"
   ]
  },
  {
   "cell_type": "code",
   "execution_count": 10,
   "metadata": {},
   "outputs": [],
   "source": [
    "cities = []\n",
    "k      = 50\n",
    "# ks     = [10, 30, 50]\n",
    "\n",
    "with open('../txt/intl.txt', 'r') as txt_file:\n",
    "    for line in txt_file:\n",
    "        city = line.split(',')[0]\n",
    "        cities.append(city)"
   ]
  },
  {
   "cell_type": "code",
   "execution_count": 11,
   "metadata": {},
   "outputs": [
    {
     "name": "stdout",
     "output_type": "stream",
     "text": [
      " D1.2 manhattan 41.0\n",
      " D1.2 barcelona 75.0\n",
      " D1.2 dubai 73.0\n",
      " D1.2 berlin 40.0\n",
      " D1.2 roma 80.0\n",
      " D1.2 amsterdam 89.0\n",
      " D1.2 paris 56.0\n",
      " D1.2 hanoi 56.0\n",
      " D1.2 new delhi 92.0\n",
      " D1.2 jakarta 91.0\n"
     ]
    }
   ],
   "source": [
    "result_1 = {}\n",
    "result_2 = {}\n",
    "\n",
    "for city in cities:\n",
    "    d_1s = []\n",
    "\n",
    "    with open(f'../result/{city}_spdt_100_{k}.pkl', 'rb') as file1, \\\n",
    "        open(f'../result/{city}_drone_100.pkl', 'rb') as file2:\n",
    "        spdt  = pickle.load(file1)\n",
    "        drone = pickle.load(file2)\n",
    "\n",
    "        spd = spdt[:, 0]\n",
    "\n",
    "        sub_dist = spd / drone\n",
    "\n",
    "        d1  = sub_dist[np.where(sub_dist > 1.2)]\n",
    "\n",
    "        # t30_p = np.round(len(t30) / len(spt) * 100, 1)\n",
    "        d1__p = np.round(len(d1) / len(spd) * 100, 1)\n",
    "\n",
    "        # t30s.append(t30_p)\n",
    "        d_1s.append(d1__p)\n",
    "        # print(f'T30 {city} {t30_p}')\n",
    "        print(f' D1.2 {city} {d1__p}')\n",
    "\n",
    "# result_1[city] = t30s\n",
    "# result_2[city] = d_1s\n",
    "# print(f'{city} \\t{d_1s}')\n"
   ]
  },
  {
   "cell_type": "code",
   "execution_count": null,
   "metadata": {},
   "outputs": [],
   "source": []
  }
 ],
 "metadata": {
  "kernelspec": {
   "display_name": "Python 3",
   "language": "python",
   "name": "python3"
  },
  "language_info": {
   "codemirror_mode": {
    "name": "ipython",
    "version": 3
   },
   "file_extension": ".py",
   "mimetype": "text/x-python",
   "name": "python",
   "nbconvert_exporter": "python",
   "pygments_lexer": "ipython3",
   "version": "3.10.12"
  }
 },
 "nbformat": 4,
 "nbformat_minor": 2
}
