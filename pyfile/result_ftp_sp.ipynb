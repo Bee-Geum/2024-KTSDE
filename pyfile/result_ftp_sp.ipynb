{
 "cells": [
  {
   "cell_type": "code",
   "execution_count": 2,
   "metadata": {},
   "outputs": [],
   "source": [
    "import pickle\n",
    "import networkx as nx\n",
    "import matplotlib.pyplot as plt\n",
    "import numpy as np"
   ]
  },
  {
   "cell_type": "code",
   "execution_count": 3,
   "metadata": {},
   "outputs": [],
   "source": [
    "cities = []\n",
    "file_name = 'cities'\n",
    "\n",
    "with open(f'../txt/{file_name}.txt', 'r') as txt_file:\n",
    "    for line in txt_file:\n",
    "        city = line.split(',')[0]\n",
    "        cities.append(city)"
   ]
  },
  {
   "cell_type": "code",
   "execution_count": 4,
   "metadata": {},
   "outputs": [
    {
     "name": "stdout",
     "output_type": "stream",
     "text": [
      "manhattan 41.0\n",
      "barcelona 28.999999999999996\n",
      "dubai 44.0\n",
      "berlin 44.0\n",
      "roma 57.99999999999999\n",
      "amsterdam 50.0\n",
      "paris 32.0\n",
      "hanoi 60.0\n",
      "new delhi 56.99999999999999\n",
      "jakarta 77.0\n"
     ]
    }
   ],
   "source": [
    "for city in cities:\n",
    "    with open(f'../result/{city}_spdt_100_30.pkl', 'rb') as file1, \\\n",
    "        open(f'../result/{city}_ftpdt_100_30.pkl', 'rb') as file2, \\\n",
    "        open(f'../result/{city}_drone_100.pkl', 'rb') as file3:\n",
    "        spdt  = pickle.load(file1)\n",
    "        ftpdt = pickle.load(file2)\n",
    "        drone = pickle.load(file3)\n",
    "\n",
    "    spd  = spdt[:,0]\n",
    "    spt  = spdt[:,1]\n",
    "    ftpd = ftpdt[:,0]\n",
    "    ftpt = ftpdt[:,1]\n",
    "\n",
    "\n",
    "    dist_sub = ftpd - spd\n",
    "    dist_div = ftpd / drone\n",
    "    time_sub = spt - ftpt\n",
    "\n",
    "    result1 = dist_sub[np.where(dist_sub > 1000)]\n",
    "    result2 = dist_div[np.where(dist_div > 1.5)]\n",
    "    result3 = time_sub[np.where(time_sub > 0)]\n",
    "\n",
    "    # print(city,  len(result2) / len(dist_div) * 100, len(result1) / len(dist_sub) * 100)\n",
    "    print(city, len(result3) / len(time_sub) * 100)"
   ]
  }
 ],
 "metadata": {
  "kernelspec": {
   "display_name": "Python 3",
   "language": "python",
   "name": "python3"
  },
  "language_info": {
   "codemirror_mode": {
    "name": "ipython",
    "version": 3
   },
   "file_extension": ".py",
   "mimetype": "text/x-python",
   "name": "python",
   "nbconvert_exporter": "python",
   "pygments_lexer": "ipython3",
   "version": "3.10.12"
  }
 },
 "nbformat": 4,
 "nbformat_minor": 2
}
