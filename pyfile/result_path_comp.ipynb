{
 "cells": [
  {
   "cell_type": "code",
   "execution_count": 8,
   "metadata": {},
   "outputs": [],
   "source": [
    "import pickle\n",
    "import networkx as nx\n",
    "import matplotlib.pyplot as plt\n",
    "import numpy as np"
   ]
  },
  {
   "cell_type": "code",
   "execution_count": 9,
   "metadata": {},
   "outputs": [],
   "source": [
    "cities = []\n",
    "file_name = 'cities'\n",
    "\n",
    "with open(f'../txt/{file_name}.txt', 'r') as txt_file:\n",
    "    for line in txt_file:\n",
    "        city = line.split(',')[0]\n",
    "        cities.append(city)"
   ]
  },
  {
   "cell_type": "code",
   "execution_count": 10,
   "metadata": {},
   "outputs": [
    {
     "name": "stdout",
     "output_type": "stream",
     "text": [
      "서울특별시 0\n",
      "부산광역시 2\n",
      "인천광역시 0\n",
      "대구광역시 2\n",
      "울산광역시 1\n",
      "대전광역시 1\n",
      "광주광역시 2\n",
      "제주특별자치도 1\n",
      "창원시 1\n",
      "세종특별자치시 4\n"
     ]
    }
   ],
   "source": [
    "for city in cities:\n",
    "    with open(f'./shortest_paths/{city}_sp_100_10.pkl', 'rb') as file1, \\\n",
    "        open(f'./fewest_turn_paths/{city}_ftp_100_10.pkl', 'rb') as file2:\n",
    "        spds = pickle.load(file1)\n",
    "        ftps = pickle.load(file2)\n",
    "\n",
    "    cnt = 0\n",
    "    for spd, ftp in zip(spds, ftps):\n",
    "        if np.array_equal(spd, ftp):\n",
    "            cnt += 1\n",
    "\n",
    "    print(city, cnt)\n"
   ]
  }
 ],
 "metadata": {
  "kernelspec": {
   "display_name": "Python 3",
   "language": "python",
   "name": "python3"
  },
  "language_info": {
   "codemirror_mode": {
    "name": "ipython",
    "version": 3
   },
   "file_extension": ".py",
   "mimetype": "text/x-python",
   "name": "python",
   "nbconvert_exporter": "python",
   "pygments_lexer": "ipython3",
   "version": "3.10.12"
  }
 },
 "nbformat": 4,
 "nbformat_minor": 2
}
