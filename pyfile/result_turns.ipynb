{
 "cells": [
  {
   "cell_type": "code",
   "execution_count": 1,
   "metadata": {},
   "outputs": [],
   "source": [
    "import pickle\n",
    "import networkx as nx\n",
    "import matplotlib.pyplot as plt\n",
    "import numpy as np"
   ]
  },
  {
   "cell_type": "code",
   "execution_count": 4,
   "metadata": {},
   "outputs": [],
   "source": [
    "cities = []\n",
    "file_name = 'intl'\n",
    "\n",
    "with open(f'../txt/{file_name}.txt', 'r') as txt_file:\n",
    "    for line in txt_file:\n",
    "        city = line.split(',')[0]\n",
    "        cities.append(city)"
   ]
  },
  {
   "cell_type": "code",
   "execution_count": 5,
   "metadata": {},
   "outputs": [
    {
     "name": "stdout",
     "output_type": "stream",
     "text": [
      "manhattan 2.94 1.1\n",
      "barcelona 3.46 2.47\n",
      "dubai 3.61 2.46\n",
      "berlin 4.24 2.0\n",
      "roma 5.12 2.67\n",
      "amsterdam 4.6 2.26\n",
      "paris 3.28 2.11\n",
      "hanoi 6.05 2.91\n",
      "new delhi 5.97 3.51\n",
      "jakarta 5.73 3.09\n"
     ]
    }
   ],
   "source": [
    "# turns = []\n",
    "# ftpds  = []\n",
    "\n",
    "for city in cities:\n",
    "    with open(f'../result/{city}_ftp_turns_100_10.pkl', 'rb') as file1, \\\n",
    "        open(f'../result/{city}_ftpdt_100_10.pkl', 'rb') as file2:\n",
    "        turn = pickle.load(file1)\n",
    "        ftpdt = pickle.load(file2)\n",
    "\n",
    "    ftpd = ftpdt[:,0]\n",
    "\n",
    "    # turns.append(turn)\n",
    "    # ftpds.append(ftpd)\n",
    "\n",
    "    # mul = turns * spd\n",
    "\n",
    "\n",
    "    avg = np.average(turn)\n",
    "    std = np.round(np.std(turn), 2)\n",
    "    print(city, avg, std)\n",
    "    # turns.append(turn)"
   ]
  }
 ],
 "metadata": {
  "kernelspec": {
   "display_name": "Python 3",
   "language": "python",
   "name": "python3"
  },
  "language_info": {
   "codemirror_mode": {
    "name": "ipython",
    "version": 3
   },
   "file_extension": ".py",
   "mimetype": "text/x-python",
   "name": "python",
   "nbconvert_exporter": "python",
   "pygments_lexer": "ipython3",
   "version": "3.10.12"
  }
 },
 "nbformat": 4,
 "nbformat_minor": 2
}
