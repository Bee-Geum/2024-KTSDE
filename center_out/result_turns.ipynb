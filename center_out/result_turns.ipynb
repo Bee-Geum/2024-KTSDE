{
 "cells": [
  {
   "cell_type": "code",
   "execution_count": 1,
   "metadata": {},
   "outputs": [],
   "source": [
    "import pickle\n",
    "import networkx as nx\n",
    "import matplotlib.pyplot as plt\n",
    "import numpy as np"
   ]
  },
  {
   "cell_type": "code",
   "execution_count": 4,
   "metadata": {},
   "outputs": [],
   "source": [
    "cities = []\n",
    "file_name = 'cities'\n",
    "\n",
    "with open(f'../txt/{file_name}.txt', 'r') as txt_file:\n",
    "    for line in txt_file:\n",
    "        city = line.split(',')[0]\n",
    "        cities.append(city)"
   ]
  },
  {
   "cell_type": "code",
   "execution_count": 5,
   "metadata": {},
   "outputs": [
    {
     "name": "stdout",
     "output_type": "stream",
     "text": [
      "서울특별시 2.48 1.24\n",
      "부산광역시 3.49 1.53\n",
      "인천광역시 4.29 1.67\n",
      "대구광역시 3.04 1.51\n",
      "울산광역시 3.72 1.61\n",
      "대전광역시 4.57 1.56\n",
      "광주광역시 4.0 1.69\n",
      "제주특별자치도 2.56 1.21\n",
      "창원시 4.03 1.73\n",
      "세종특별자치시 6.37 2.43\n"
     ]
    }
   ],
   "source": [
    "# turns = []\n",
    "# ftpds  = []\n",
    "\n",
    "option = 'center_outskirt'\n",
    "\n",
    "\n",
    "for city in cities:\n",
    "    with open(f'./result/{city}_{option}_ftp_turns_100_10.pkl', 'rb') as file1, \\\n",
    "        open(f'./result/{city}_{option}_ftpdt_100_10.pkl', 'rb') as file2:\n",
    "        turn = pickle.load(file1)\n",
    "        ftpdt = pickle.load(file2)\n",
    "\n",
    "    ftpd = ftpdt[:,0]\n",
    "\n",
    "    # turns.append(turn)\n",
    "    # ftpds.append(ftpd)\n",
    "\n",
    "    # mul = turns * spd\n",
    "\n",
    "\n",
    "    avg = np.average(turn)\n",
    "    std = np.round(np.std(turn), 2)\n",
    "    print(city, avg, std)\n",
    "    # turns.append(turn)"
   ]
  }
 ],
 "metadata": {
  "kernelspec": {
   "display_name": "Python 3",
   "language": "python",
   "name": "python3"
  },
  "language_info": {
   "codemirror_mode": {
    "name": "ipython",
    "version": 3
   },
   "file_extension": ".py",
   "mimetype": "text/x-python",
   "name": "python",
   "nbconvert_exporter": "python",
   "pygments_lexer": "ipython3",
   "version": "3.10.12"
  }
 },
 "nbformat": 4,
 "nbformat_minor": 2
}
