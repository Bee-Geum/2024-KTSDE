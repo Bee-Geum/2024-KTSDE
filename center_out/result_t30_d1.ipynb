{
 "cells": [
  {
   "cell_type": "code",
   "execution_count": 28,
   "metadata": {},
   "outputs": [],
   "source": [
    "import pickle\n",
    "import numpy as np\n",
    "import matplotlib.pyplot as plt"
   ]
  },
  {
   "cell_type": "code",
   "execution_count": 29,
   "metadata": {},
   "outputs": [],
   "source": [
    "cities = []\n",
    "k      = 50\n",
    "ks     = [30]\n",
    "\n",
    "with open('../txt/cities.txt', 'r') as txt_file:\n",
    "    for line in txt_file:\n",
    "        city = line.split(',')[0]\n",
    "        cities.append(city)"
   ]
  },
  {
   "cell_type": "code",
   "execution_count": 30,
   "metadata": {},
   "outputs": [
    {
     "name": "stdout",
     "output_type": "stream",
     "text": [
      "서울특별시 \t [92.0] \t [89.0]\n",
      "부산광역시 \t [100.0] \t [89.0]\n",
      "인천광역시 \t [85.0] \t [100.0]\n",
      "대구광역시 \t [90.0] \t [90.0]\n",
      "울산광역시 \t [60.0] \t [49.0]\n",
      "대전광역시 \t [35.0] \t [12.0]\n",
      "광주광역시 \t [52.0] \t [23.0]\n",
      "제주특별자치도 \t [100.0] \t [97.0]\n",
      "창원시 \t [80.0] \t [30.0]\n",
      "세종특별자치시 \t [63.0] \t [15.0]\n"
     ]
    }
   ],
   "source": [
    "result_1 = {}\n",
    "result_2 = {}\n",
    "\n",
    "option = 'center_outskirt'\n",
    "\n",
    "for city in cities:\n",
    "    t30s = []\n",
    "    d_1s = []\n",
    "    for k in ks:\n",
    "\n",
    "        with open(f'./result/{city}_{option}_spdt_100_{k}.pkl', 'rb') as file1, \\\n",
    "            open(f'./result/{city}_{option}_qpdt_100_{k}.pkl', 'rb') as file2:\n",
    "            spdt = pickle.load(file1)\n",
    "            qpdt = pickle.load(file2)\n",
    "\n",
    "            spt = spdt[:, 1]\n",
    "            qpt = qpdt[:, 1]\n",
    "\n",
    "            sub_time = spt - qpt\n",
    "\n",
    "            t30 = sub_time[np.where(sub_time > 60)]\n",
    "\n",
    "            spd = spdt[:, 0]\n",
    "            qpd = qpdt[:, 0]\n",
    "\n",
    "            sub_dist = qpd - spd\n",
    "\n",
    "            d1  = sub_dist[np.where(sub_dist > 5000)]\n",
    "\n",
    "            t30_p = np.round(len(t30) / len(spt) * 100, 1)\n",
    "            d1__p = np.round(len(d1) / len(spd) * 100, 1)\n",
    "\n",
    "            t30s.append(t30_p)\n",
    "            d_1s.append(d1__p)\n",
    "            # print(f'T30 {city} {t30_p}')\n",
    "            # print(f' D1 {city} {d1__p}')\n",
    "\n",
    "    print(f'{city} \\t {t30s} \\t {d_1s}')\n"
   ]
  }
 ],
 "metadata": {
  "kernelspec": {
   "display_name": "Python 3",
   "language": "python",
   "name": "python3"
  },
  "language_info": {
   "codemirror_mode": {
    "name": "ipython",
    "version": 3
   },
   "file_extension": ".py",
   "mimetype": "text/x-python",
   "name": "python",
   "nbconvert_exporter": "python",
   "pygments_lexer": "ipython3",
   "version": "3.10.12"
  }
 },
 "nbformat": 4,
 "nbformat_minor": 2
}
