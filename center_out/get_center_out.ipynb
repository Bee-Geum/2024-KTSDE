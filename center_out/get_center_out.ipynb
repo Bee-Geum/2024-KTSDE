{
 "cells": [
  {
   "cell_type": "code",
   "execution_count": 10,
   "metadata": {},
   "outputs": [],
   "source": [
    "import osmnx as ox\n",
    "import networkx as nx\n",
    "import random\n",
    "from geopy.distance import great_circle\n",
    "import pickle"
   ]
  },
  {
   "cell_type": "code",
   "execution_count": 11,
   "metadata": {},
   "outputs": [],
   "source": [
    "def nodes_within_radius(G, center_point, initial_radius=1000, step=100, min_nodes=1000):\n",
    "    radius = initial_radius\n",
    "    while True:\n",
    "        nodes_within = []\n",
    "        for node, data in G.nodes(data=True):\n",
    "            node_point = (data['y'], data['x'])  # (위도, 경도)\n",
    "            distance = great_circle(center_point, node_point).meters\n",
    "            if distance <= radius:\n",
    "                nodes_within.append(node)\n",
    "        if len(nodes_within) >= min_nodes:\n",
    "            return nodes_within, radius\n",
    "        radius += step "
   ]
  },
  {
   "cell_type": "code",
   "execution_count": 12,
   "metadata": {},
   "outputs": [],
   "source": [
    "with open('../txt/center_out.txt', 'r') as txt_file:\n",
    "\n",
    "    cnt = 1\n",
    "\n",
    "    for line in txt_file:\n",
    "        city     = line.split(',')[0]\n",
    "        center_point = (line.split(',')[1], line.split(',')[2])\n",
    "\n",
    "        with open(f'../graph_data/{city}_graph_default.pkl', 'rb') as file:\n",
    "            G = pickle.load(file)\n",
    "        \n",
    "        nodes_within, radius = nodes_within_radius(G, center_point)\n",
    "\n",
    "        if cnt % 2 != 0:\n",
    "            with open(f'../center_out/{city}_center_nodes.pkl', 'wb') as file1:\n",
    "                pickle.dump(nodes_within, file1)\n",
    "        else:\n",
    "            with open(f'../center_out/{city}_outskirt_nodes.pkl', 'wb') as file2:\n",
    "                pickle.dump(nodes_within, file2)            \n",
    "\n",
    "        cnt += 1"
   ]
  }
 ],
 "metadata": {
  "kernelspec": {
   "display_name": "Python 3",
   "language": "python",
   "name": "python3"
  },
  "language_info": {
   "codemirror_mode": {
    "name": "ipython",
    "version": 3
   },
   "file_extension": ".py",
   "mimetype": "text/x-python",
   "name": "python",
   "nbconvert_exporter": "python",
   "pygments_lexer": "ipython3",
   "version": "3.10.12"
  }
 },
 "nbformat": 4,
 "nbformat_minor": 2
}
